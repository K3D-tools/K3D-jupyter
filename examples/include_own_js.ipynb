{
 "cells": [
  {
   "cell_type": "code",
   "execution_count": 1,
   "id": "2fafa596",
   "metadata": {},
   "outputs": [
    {
     "data": {
      "application/vnd.jupyter.widget-view+json": {
       "model_id": "e8fa51d7f32f4a7b99fd7fd36eadba04",
       "version_major": 2,
       "version_minor": 0
      },
      "text/plain": [
       "Output()"
      ]
     },
     "metadata": {},
     "output_type": "display_data"
    }
   ],
   "source": [
    "import k3d\n",
    "import numpy as np\n",
    "from IPython.display import HTML\n",
    "\n",
    "additional_js_code=\"\"\"\n",
    "    let json = K3DInstance.getWorld().ObjectsListJson;    \n",
    "    let active = Object.keys(json)[0];\n",
    "    \n",
    "    setInterval(() => {\n",
    "        let newActive;\n",
    "        \n",
    "        Object.keys(json).forEach(function (id) {\n",
    "          if (active === id) {\n",
    "            json[id].opacity = 0;\n",
    "            K3DInstance.reload(json[id], {opacity: 0});            \n",
    "          } else {\n",
    "            json[id].opacity = 1;\n",
    "            K3DInstance.reload(json[id], {opacity: 1});\n",
    "            newActive = id;\n",
    "          }                    \n",
    "        });\n",
    "        \n",
    "        active = newActive;\n",
    "      \n",
    "    }, 2000);\n",
    "    \n",
    "    \"\"\"\n",
    "\n",
    "points_number = 500\n",
    "positions = 50 * np.random.random_sample((points_number,3)) - 25\n",
    "colors = np.random.randint(0, 0xFFFFFF, points_number)\n",
    "\n",
    "plot = k3d.plot(additional_js_code = additional_js_code)\n",
    "points = k3d.points(positions.astype(np.float32), colors.astype(np.uint32), point_size=3.0, shader='flat')\n",
    "plot += points\n",
    "plot.display()"
   ]
  },
  {
   "cell_type": "code",
   "execution_count": 2,
   "id": "966291e8",
   "metadata": {},
   "outputs": [
    {
     "data": {
      "text/html": [
       "<div id=\"canvasTarget_2315448023280\" class=\"k3d_plot\" style=\"position: relative;\"></div>\n",
       "\n",
       "<script>\n",
       "  var K3DInstance;\n",
       "  var data_2315448023280 = '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';\n",
       "\n",
       "  function loadScript(path, cb) {\n",
       "    var script = document.createElement('script');\n",
       "    script.src = path;\n",
       "    script.onload = cb;\n",
       "    script.onerror = cb;\n",
       "    document.head.appendChild(script);\n",
       "  }\n",
       "\n",
       "  function loadK3D() {\n",
       "    function load(lib) {\n",
       "      function _base64ToArrayBuffer(base64) {\n",
       "        var binary_string = window.atob(base64);\n",
       "        var len = binary_string.length;\n",
       "        var bytes = new Uint8Array(len);\n",
       "        for (var i = 0; i < len; i++) {\n",
       "          bytes[i] = binary_string.charCodeAt(i);\n",
       "        }\n",
       "        return bytes;\n",
       "      }\n",
       "\n",
       "      try {\n",
       "        document.getElementById('canvasTarget_2315448023280').style.cssText = [\n",
       "          'height:512px',\n",
       "          'position: relative',\n",
       "        ].join(';');\n",
       "\n",
       "        K3DInstance = new lib.CreateK3DAndLoadBinarySnapshot(\n",
       "          _base64ToArrayBuffer(data_2315448023280),\n",
       "          document.getElementById('canvasTarget_2315448023280'),\n",
       "        );\n",
       "\n",
       "        K3DInstance.then(function (K3DInstance) {\n",
       "          \n",
       "    let json = K3DInstance.getWorld().ObjectsListJson;    \n",
       "    let active = Object.keys(json)[0];\n",
       "    \n",
       "    setInterval(() => {\n",
       "        let newActive;\n",
       "        \n",
       "        Object.keys(json).forEach(function (id) {\n",
       "          if (active === id) {\n",
       "            json[id].opacity = 0;\n",
       "            K3DInstance.reload(json[id], {opacity: 0});            \n",
       "          } else {\n",
       "            json[id].opacity = 1;\n",
       "            K3DInstance.reload(json[id], {opacity: 1});\n",
       "            newActive = id;\n",
       "          }                    \n",
       "        });\n",
       "        \n",
       "        active = newActive;\n",
       "      \n",
       "    }, 2000);\n",
       "    \n",
       "    \n",
       "alert(\"collision?\")\n",
       "        });\n",
       "      } catch (e) {\n",
       "        console.log(e);\n",
       "        return;\n",
       "      }\n",
       "    }\n",
       "\n",
       "    require(['k3d'],\n",
       "            load,\n",
       "            function () {\n",
       "              loadScript('https://unpkg.com/k3d@2.17.0/dist/standalone.js', function () {\n",
       "                try {\n",
       "                  delete require.s.contexts._.registry.k3d;\n",
       "                } catch(err) {\n",
       "                  console.log(err);\n",
       "                }\n",
       "\n",
       "                require(['k3d'], load);\n",
       "              });\n",
       "            });\n",
       "  }\n",
       "\n",
       "  if (typeof (require) === 'undefined') {\n",
       "    loadScript('https://cdnjs.cloudflare.com/ajax/libs/require.js/2.3.6/require.min.js', loadK3D);\n",
       "  } else {\n",
       "    loadK3D();\n",
       "  }\n",
       "</script>"
      ],
      "text/plain": [
       "<IPython.core.display.HTML object>"
      ]
     },
     "execution_count": 2,
     "metadata": {},
     "output_type": "execute_result"
    }
   ],
   "source": [
    "plot.snapshot_type = 'inline'\n",
    "HTML(plot.get_snapshot(additional_js_code='alert(\"collision?\")'))"
   ]
  },
  {
   "cell_type": "code",
   "execution_count": null,
   "id": "4da612e0",
   "metadata": {},
   "outputs": [],
   "source": [
    "# No! Both codes are concatenated"
   ]
  }
 ],
 "metadata": {
  "kernelspec": {
   "display_name": "Python 3 (ipykernel)",
   "language": "python",
   "name": "python3"
  },
  "language_info": {
   "codemirror_mode": {
    "name": "ipython",
    "version": 3
   },
   "file_extension": ".py",
   "mimetype": "text/x-python",
   "name": "python",
   "nbconvert_exporter": "python",
   "pygments_lexer": "ipython3",
   "version": "3.12.3"
  }
 },
 "nbformat": 4,
 "nbformat_minor": 5
}
